{
 "cells": [
  {
   "cell_type": "markdown",
   "metadata": {},
   "source": [
    "# VacationPy\n",
    "----\n",
    "\n",
    "#### Note\n",
    "* Instructions have been included for each segment. You do not have to follow them exactly, but they are included to help you think through the steps."
   ]
  },
  {
   "cell_type": "code",
   "execution_count": 1,
   "metadata": {},
   "outputs": [],
   "source": [
    "# Dependencies and Setup\n",
    "import matplotlib.pyplot as plt\n",
    "import pandas as pd\n",
    "import numpy as np\n",
    "import requests\n",
    "import gmaps\n",
    "import os\n",
    "\n",
    "# Import API key\n",
    "from api_keys import g_key"
   ]
  },
  {
   "cell_type": "markdown",
   "metadata": {},
   "source": [
    "### Store Part I results into DataFrame\n",
    "* Load the csv exported in Part I to a DataFrame"
   ]
  },
  {
   "cell_type": "code",
   "execution_count": 2,
   "metadata": {},
   "outputs": [
    {
     "data": {
      "text/html": [
       "<div>\n",
       "<style scoped>\n",
       "    .dataframe tbody tr th:only-of-type {\n",
       "        vertical-align: middle;\n",
       "    }\n",
       "\n",
       "    .dataframe tbody tr th {\n",
       "        vertical-align: top;\n",
       "    }\n",
       "\n",
       "    .dataframe thead th {\n",
       "        text-align: right;\n",
       "    }\n",
       "</style>\n",
       "<table border=\"1\" class=\"dataframe\">\n",
       "  <thead>\n",
       "    <tr style=\"text-align: right;\">\n",
       "      <th></th>\n",
       "      <th>City</th>\n",
       "      <th>Cloudiness</th>\n",
       "      <th>Country</th>\n",
       "      <th>Date</th>\n",
       "      <th>Humidity</th>\n",
       "      <th>Lat</th>\n",
       "      <th>Lng</th>\n",
       "      <th>Max Temp</th>\n",
       "      <th>Wind_Speed</th>\n",
       "    </tr>\n",
       "  </thead>\n",
       "  <tbody>\n",
       "    <tr>\n",
       "      <th>0</th>\n",
       "      <td>busselton</td>\n",
       "      <td>49</td>\n",
       "      <td>AU</td>\n",
       "      <td>1569881043</td>\n",
       "      <td>75</td>\n",
       "      <td>-33.64</td>\n",
       "      <td>115.35</td>\n",
       "      <td>115.35</td>\n",
       "      <td>281.48</td>\n",
       "    </tr>\n",
       "    <tr>\n",
       "      <th>1</th>\n",
       "      <td>udachnyy</td>\n",
       "      <td>75</td>\n",
       "      <td>RU</td>\n",
       "      <td>1569881162</td>\n",
       "      <td>100</td>\n",
       "      <td>66.42</td>\n",
       "      <td>112.40</td>\n",
       "      <td>112.40</td>\n",
       "      <td>266.15</td>\n",
       "    </tr>\n",
       "    <tr>\n",
       "      <th>2</th>\n",
       "      <td>hawera</td>\n",
       "      <td>100</td>\n",
       "      <td>NZ</td>\n",
       "      <td>1569880869</td>\n",
       "      <td>86</td>\n",
       "      <td>-39.59</td>\n",
       "      <td>174.28</td>\n",
       "      <td>174.28</td>\n",
       "      <td>282.04</td>\n",
       "    </tr>\n",
       "    <tr>\n",
       "      <th>3</th>\n",
       "      <td>punta arenas</td>\n",
       "      <td>75</td>\n",
       "      <td>CL</td>\n",
       "      <td>1569881162</td>\n",
       "      <td>52</td>\n",
       "      <td>-53.16</td>\n",
       "      <td>-70.91</td>\n",
       "      <td>-70.91</td>\n",
       "      <td>278.15</td>\n",
       "    </tr>\n",
       "    <tr>\n",
       "      <th>4</th>\n",
       "      <td>port alfred</td>\n",
       "      <td>62</td>\n",
       "      <td>ZA</td>\n",
       "      <td>1569881073</td>\n",
       "      <td>83</td>\n",
       "      <td>-33.59</td>\n",
       "      <td>26.89</td>\n",
       "      <td>26.89</td>\n",
       "      <td>287.59</td>\n",
       "    </tr>\n",
       "  </tbody>\n",
       "</table>\n",
       "</div>"
      ],
      "text/plain": [
       "           City  Cloudiness Country        Date  Humidity    Lat     Lng  \\\n",
       "0     busselton          49      AU  1569881043        75 -33.64  115.35   \n",
       "1      udachnyy          75      RU  1569881162       100  66.42  112.40   \n",
       "2        hawera         100      NZ  1569880869        86 -39.59  174.28   \n",
       "3  punta arenas          75      CL  1569881162        52 -53.16  -70.91   \n",
       "4   port alfred          62      ZA  1569881073        83 -33.59   26.89   \n",
       "\n",
       "   Max Temp  Wind_Speed  \n",
       "0    115.35      281.48  \n",
       "1    112.40      266.15  \n",
       "2    174.28      282.04  \n",
       "3    -70.91      278.15  \n",
       "4     26.89      287.59  "
      ]
     },
     "execution_count": 2,
     "metadata": {},
     "output_type": "execute_result"
    }
   ],
   "source": [
    "df=pd.read_csv(\"output.csv\")\n",
    "df.head()"
   ]
  },
  {
   "cell_type": "markdown",
   "metadata": {},
   "source": [
    "### Humidity Heatmap\n",
    "* Configure gmaps.\n",
    "* Use the Lat and Lng as locations and Humidity as the weight.\n",
    "* Add Heatmap layer to map."
   ]
  },
  {
   "cell_type": "code",
   "execution_count": 3,
   "metadata": {},
   "outputs": [],
   "source": [
    "coordinates = df[[\"Lat\", \"Lng\"]]\n",
    "humidity = df[\"Humidity\"].astype(float)\n"
   ]
  },
  {
   "cell_type": "code",
   "execution_count": 4,
   "metadata": {},
   "outputs": [
    {
     "data": {
      "application/vnd.jupyter.widget-view+json": {
       "model_id": "5b81efec5ef449f6ac4c2375bb4882ab",
       "version_major": 2,
       "version_minor": 0
      },
      "text/plain": [
       "Figure(layout=FigureLayout(height='420px'))"
      ]
     },
     "metadata": {},
     "output_type": "display_data"
    }
   ],
   "source": [
    "# Plot Heatmap\n",
    "fig = gmaps.figure()\n",
    "\n",
    "heat_layer = gmaps.heatmap_layer(coordinates, weights=humidity, dissipating=False, max_intensity=5,point_radius=1)\n",
    "\n",
    "# Add layer\n",
    "fig.add_layer(heat_layer)\n",
    "\n",
    "# Display figure\n",
    "fig"
   ]
  },
  {
   "cell_type": "code",
   "execution_count": null,
   "metadata": {},
   "outputs": [],
   "source": []
  },
  {
   "cell_type": "markdown",
   "metadata": {},
   "source": [
    "### Create new DataFrame fitting weather criteria\n",
    "* Narrow down the cities to fit weather conditions.\n",
    "* Drop any rows will null values."
   ]
  },
  {
   "cell_type": "code",
   "execution_count": 5,
   "metadata": {},
   "outputs": [
    {
     "data": {
      "text/html": [
       "<div>\n",
       "<style scoped>\n",
       "    .dataframe tbody tr th:only-of-type {\n",
       "        vertical-align: middle;\n",
       "    }\n",
       "\n",
       "    .dataframe tbody tr th {\n",
       "        vertical-align: top;\n",
       "    }\n",
       "\n",
       "    .dataframe thead th {\n",
       "        text-align: right;\n",
       "    }\n",
       "</style>\n",
       "<table border=\"1\" class=\"dataframe\">\n",
       "  <thead>\n",
       "    <tr style=\"text-align: right;\">\n",
       "      <th></th>\n",
       "      <th>City</th>\n",
       "      <th>Cloudiness</th>\n",
       "      <th>Humidity</th>\n",
       "      <th>Max Temp</th>\n",
       "      <th>Wind_Speed</th>\n",
       "    </tr>\n",
       "  </thead>\n",
       "  <tbody>\n",
       "    <tr>\n",
       "      <th>0</th>\n",
       "      <td>busselton</td>\n",
       "      <td>49</td>\n",
       "      <td>75</td>\n",
       "      <td>115.35</td>\n",
       "      <td>281.48</td>\n",
       "    </tr>\n",
       "    <tr>\n",
       "      <th>1</th>\n",
       "      <td>udachnyy</td>\n",
       "      <td>75</td>\n",
       "      <td>100</td>\n",
       "      <td>112.40</td>\n",
       "      <td>266.15</td>\n",
       "    </tr>\n",
       "    <tr>\n",
       "      <th>2</th>\n",
       "      <td>hawera</td>\n",
       "      <td>100</td>\n",
       "      <td>86</td>\n",
       "      <td>174.28</td>\n",
       "      <td>282.04</td>\n",
       "    </tr>\n",
       "    <tr>\n",
       "      <th>3</th>\n",
       "      <td>punta arenas</td>\n",
       "      <td>75</td>\n",
       "      <td>52</td>\n",
       "      <td>-70.91</td>\n",
       "      <td>278.15</td>\n",
       "    </tr>\n",
       "    <tr>\n",
       "      <th>4</th>\n",
       "      <td>port alfred</td>\n",
       "      <td>62</td>\n",
       "      <td>83</td>\n",
       "      <td>26.89</td>\n",
       "      <td>287.59</td>\n",
       "    </tr>\n",
       "  </tbody>\n",
       "</table>\n",
       "</div>"
      ],
      "text/plain": [
       "           City  Cloudiness  Humidity  Max Temp  Wind_Speed\n",
       "0     busselton          49        75    115.35      281.48\n",
       "1      udachnyy          75       100    112.40      266.15\n",
       "2        hawera         100        86    174.28      282.04\n",
       "3  punta arenas          75        52    -70.91      278.15\n",
       "4   port alfred          62        83     26.89      287.59"
      ]
     },
     "execution_count": 5,
     "metadata": {},
     "output_type": "execute_result"
    }
   ],
   "source": [
    "new_df=df[[\"City\",\"Cloudiness\",\"Humidity\",\"Max Temp\", \"Wind_Speed\"]]\n",
    "new_df.dropna()\n",
    "new_df.head()"
   ]
  },
  {
   "cell_type": "markdown",
   "metadata": {},
   "source": [
    "### Hotel Map\n",
    "* Store into variable named `hotel_df`.\n",
    "* Add a \"Hotel Name\" column to the DataFrame.\n",
    "* Set parameters to search for hotels with 5000 meters.\n",
    "* Hit the Google Places API for each city's coordinates.\n",
    "* Store the first Hotel result into the DataFrame.\n",
    "* Plot markers on top of the heatmap."
   ]
  },
  {
   "cell_type": "code",
   "execution_count": 6,
   "metadata": {},
   "outputs": [],
   "source": [
    "hotel_df=df"
   ]
  },
  {
   "cell_type": "code",
   "execution_count": 7,
   "metadata": {},
   "outputs": [],
   "source": [
    "base_url = \"https://maps.googleapis.com/maps/api/place/nearbysearch/json\""
   ]
  },
  {
   "cell_type": "code",
   "execution_count": 8,
   "metadata": {},
   "outputs": [],
   "source": [
    "length=len(hotel_df[\"City\"])"
   ]
  },
  {
   "cell_type": "code",
   "execution_count": 9,
   "metadata": {},
   "outputs": [],
   "source": [
    "hotel_name=[]\n",
    "\n",
    "for i in range(length):\n",
    "    base_url = \"https://maps.googleapis.com/maps/api/place/nearbysearch/json\"\n",
    "    x=hotel_df[\"Lat\"][i]\n",
    "    y=hotel_df[\"Lng\"][i]\n",
    "    coord=f\"{x},{y}\"\n",
    "    params = {\n",
    "        \"location\": coord,  # philadelphia coords,\n",
    "        \"rankby\": \"distance\",\n",
    "        \"type\": \"hotel\",\n",
    "        \"key\": g_key\n",
    "        }\n",
    "    response = requests.get(base_url, params=params).json()\n",
    "    try:\n",
    "        results = response['results'][0][\"name\"]\n",
    "        hotel_name.append(results)\n",
    "    \n",
    "    except IndexError:\n",
    "        hotel_name.append(\"NA\")\n",
    "        \n"
   ]
  },
  {
   "cell_type": "code",
   "execution_count": 10,
   "metadata": {},
   "outputs": [],
   "source": [
    "hotel_df['Hotel Name']=hotel_name\n",
    "hotel_df=hotel_df.dropna()"
   ]
  },
  {
   "cell_type": "code",
   "execution_count": 11,
   "metadata": {},
   "outputs": [
    {
     "data": {
      "text/html": [
       "<div>\n",
       "<style scoped>\n",
       "    .dataframe tbody tr th:only-of-type {\n",
       "        vertical-align: middle;\n",
       "    }\n",
       "\n",
       "    .dataframe tbody tr th {\n",
       "        vertical-align: top;\n",
       "    }\n",
       "\n",
       "    .dataframe thead th {\n",
       "        text-align: right;\n",
       "    }\n",
       "</style>\n",
       "<table border=\"1\" class=\"dataframe\">\n",
       "  <thead>\n",
       "    <tr style=\"text-align: right;\">\n",
       "      <th></th>\n",
       "      <th>City</th>\n",
       "      <th>Cloudiness</th>\n",
       "      <th>Country</th>\n",
       "      <th>Date</th>\n",
       "      <th>Humidity</th>\n",
       "      <th>Lat</th>\n",
       "      <th>Lng</th>\n",
       "      <th>Max Temp</th>\n",
       "      <th>Wind_Speed</th>\n",
       "      <th>Hotel Name</th>\n",
       "    </tr>\n",
       "  </thead>\n",
       "  <tbody>\n",
       "    <tr>\n",
       "      <th>0</th>\n",
       "      <td>busselton</td>\n",
       "      <td>49</td>\n",
       "      <td>AU</td>\n",
       "      <td>1569881043</td>\n",
       "      <td>75</td>\n",
       "      <td>-33.64</td>\n",
       "      <td>115.35</td>\n",
       "      <td>115.35</td>\n",
       "      <td>281.48</td>\n",
       "      <td>Free Barbeque Pit &amp; Picnic Tables</td>\n",
       "    </tr>\n",
       "    <tr>\n",
       "      <th>1</th>\n",
       "      <td>udachnyy</td>\n",
       "      <td>75</td>\n",
       "      <td>RU</td>\n",
       "      <td>1569881162</td>\n",
       "      <td>100</td>\n",
       "      <td>66.42</td>\n",
       "      <td>112.40</td>\n",
       "      <td>112.40</td>\n",
       "      <td>266.15</td>\n",
       "      <td>Rudnik Udachnyy</td>\n",
       "    </tr>\n",
       "    <tr>\n",
       "      <th>2</th>\n",
       "      <td>hawera</td>\n",
       "      <td>100</td>\n",
       "      <td>NZ</td>\n",
       "      <td>1569880869</td>\n",
       "      <td>86</td>\n",
       "      <td>-39.59</td>\n",
       "      <td>174.28</td>\n",
       "      <td>174.28</td>\n",
       "      <td>282.04</td>\n",
       "      <td>Catholic Parish Hawera St Joseph's</td>\n",
       "    </tr>\n",
       "    <tr>\n",
       "      <th>3</th>\n",
       "      <td>punta arenas</td>\n",
       "      <td>75</td>\n",
       "      <td>CL</td>\n",
       "      <td>1569881162</td>\n",
       "      <td>52</td>\n",
       "      <td>-53.16</td>\n",
       "      <td>-70.91</td>\n",
       "      <td>-70.91</td>\n",
       "      <td>278.15</td>\n",
       "      <td>Kmasu</td>\n",
       "    </tr>\n",
       "    <tr>\n",
       "      <th>4</th>\n",
       "      <td>port alfred</td>\n",
       "      <td>62</td>\n",
       "      <td>ZA</td>\n",
       "      <td>1569881073</td>\n",
       "      <td>83</td>\n",
       "      <td>-33.59</td>\n",
       "      <td>26.89</td>\n",
       "      <td>26.89</td>\n",
       "      <td>287.59</td>\n",
       "      <td>Kowie Museum</td>\n",
       "    </tr>\n",
       "  </tbody>\n",
       "</table>\n",
       "</div>"
      ],
      "text/plain": [
       "           City  Cloudiness Country        Date  Humidity    Lat     Lng  \\\n",
       "0     busselton          49      AU  1569881043        75 -33.64  115.35   \n",
       "1      udachnyy          75      RU  1569881162       100  66.42  112.40   \n",
       "2        hawera         100      NZ  1569880869        86 -39.59  174.28   \n",
       "3  punta arenas          75      CL  1569881162        52 -53.16  -70.91   \n",
       "4   port alfred          62      ZA  1569881073        83 -33.59   26.89   \n",
       "\n",
       "   Max Temp  Wind_Speed                          Hotel Name  \n",
       "0    115.35      281.48   Free Barbeque Pit & Picnic Tables  \n",
       "1    112.40      266.15                     Rudnik Udachnyy  \n",
       "2    174.28      282.04  Catholic Parish Hawera St Joseph's  \n",
       "3    -70.91      278.15                               Kmasu  \n",
       "4     26.89      287.59                        Kowie Museum  "
      ]
     },
     "execution_count": 11,
     "metadata": {},
     "output_type": "execute_result"
    }
   ],
   "source": [
    "hotel_df.head()"
   ]
  },
  {
   "cell_type": "code",
   "execution_count": 12,
   "metadata": {},
   "outputs": [],
   "source": [
    "# NOTE: Do not change any of the code in this cell\n",
    "\n",
    "# Using the template add the hotel marks to the heatmap\n",
    "info_box_template = \"\"\"\n",
    "<dl>\n",
    "<dt>Name</dt><dd>{Hotel Name}</dd>\n",
    "<dt>City</dt><dd>{City}</dd>\n",
    "<dt>Country</dt><dd>{Country}</dd>\n",
    "</dl>\n",
    "\"\"\"\n",
    "# Store the DataFrame Row\n",
    "# NOTE: be sure to update with your DataFrame name\n",
    "narrowed_city_df=hotel_df\n",
    "hotel_info = [info_box_template.format(**row) for index, row in narrowed_city_df.iterrows()]\n",
    "locations = hotel_df[[\"Lat\", \"Lng\"]]"
   ]
  },
  {
   "cell_type": "code",
   "execution_count": 14,
   "metadata": {},
   "outputs": [
    {
     "data": {
      "application/vnd.jupyter.widget-view+json": {
       "model_id": "d089c26fb11e43ebb2038f70cf327a73",
       "version_major": 2,
       "version_minor": 0
      },
      "text/plain": [
       "Figure(layout=FigureLayout(height='420px'))"
      ]
     },
     "metadata": {},
     "output_type": "display_data"
    }
   ],
   "source": [
    "# Add marker layer ontop of heat map\n",
    "fig = gmaps.figure()\n",
    "\n",
    "heat_layer = gmaps.marker_layer(locations, info_box_content=hotel_info)\n",
    "\n",
    "# Add layer\n",
    "fig.add_layer(heat_layer)\n",
    "\n",
    "# Display figure\n",
    "fig\n",
    "\n",
    "# Display Map"
   ]
  },
  {
   "cell_type": "code",
   "execution_count": null,
   "metadata": {},
   "outputs": [],
   "source": []
  }
 ],
 "metadata": {
  "kernelspec": {
   "display_name": "Python 3",
   "language": "python",
   "name": "python3"
  },
  "language_info": {
   "codemirror_mode": {
    "name": "ipython",
    "version": 3
   },
   "file_extension": ".py",
   "mimetype": "text/x-python",
   "name": "python",
   "nbconvert_exporter": "python",
   "pygments_lexer": "ipython3",
   "version": "3.7.3"
  },
  "latex_envs": {
   "LaTeX_envs_menu_present": true,
   "autoclose": false,
   "autocomplete": true,
   "bibliofile": "biblio.bib",
   "cite_by": "apalike",
   "current_citInitial": 1,
   "eqLabelWithNumbers": true,
   "eqNumInitial": 1,
   "hotkeys": {
    "equation": "Ctrl-E",
    "itemize": "Ctrl-I"
   },
   "labels_anchors": false,
   "latex_user_defs": false,
   "report_style_numbering": false,
   "user_envs_cfg": false
  }
 },
 "nbformat": 4,
 "nbformat_minor": 2
}
